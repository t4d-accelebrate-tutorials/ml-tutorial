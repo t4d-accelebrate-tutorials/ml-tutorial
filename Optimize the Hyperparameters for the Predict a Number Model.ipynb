{
 "cells": [
  {
   "cell_type": "code",
   "execution_count": 2,
   "metadata": {},
   "outputs": [
    {
     "name": "stdout",
     "output_type": "stream",
     "text": [
      "Best parameter: {'C': 10, 'gamma': 0.001, 'kernel': 'rbf'}\n",
      "Cross-validation accuracy score: 0.982\n",
      "Test accuracy score: 1.000\n"
     ]
    }
   ],
   "source": [
    "from sklearn import datasets, svm\n",
    "from sklearn.externals import joblib\n",
    "from sklearn.grid_search import GridSearchCV\n",
    "import matplotlib.pyplot as plt\n",
    "import pandas as pd\n",
    "import numpy as np\n",
    "\n",
    "digits = datasets.load_digits()\n",
    "\n",
    "clf = svm.SVC(kernel='rbf', random_state=101)\n",
    "\n",
    "\n",
    "# C_options = np.array([0.001, 0.01, 0.1, 1, 10, 100, 1000])\n",
    "# gamma_options = np.array([0.001, 0.01, 0.1, 0.0, 10.0, 100.0, 1000])\n",
    "C_options = np.array([10])\n",
    "gamma_options = np.array([0.001])\n",
    "\n",
    "hyperparameter_search_space = [{\n",
    "    'kernel': ['rbf'], \n",
    "    'C': C_options, \n",
    "    'gamma': gamma_options\n",
    "}]\n",
    "\n",
    "\n",
    "gridsearch = GridSearchCV(estimator=clf, \n",
    "                          param_grid=hyperparameter_search_space, \n",
    "                          cv=10)\n",
    "gridsearch.fit(digits.data[:-1], digits.target[:-1])\n",
    "\n",
    "\n",
    "cv_performance = gridsearch.best_score_\n",
    "test_performance = gridsearch.score(digits.data[-1:], digits.target[-1:])\n",
    "\n",
    "\n",
    "print('Best parameter: {}'.format(str(gridsearch.best_params_)))\n",
    "print('Cross-validation accuracy score: {0:0.3f}'.format(cv_performance))\n",
    "print('Test accuracy score: {0:0.3f}'.format(test_performance))"
   ]
  },
  {
   "cell_type": "code",
   "execution_count": null,
   "metadata": {},
   "outputs": [],
   "source": []
  },
  {
   "cell_type": "code",
   "execution_count": null,
   "metadata": {},
   "outputs": [],
   "source": []
  }
 ],
 "metadata": {
  "kernelspec": {
   "display_name": "Python 3",
   "language": "python",
   "name": "python3"
  },
  "language_info": {
   "codemirror_mode": {
    "name": "ipython",
    "version": 3
   },
   "file_extension": ".py",
   "mimetype": "text/x-python",
   "name": "python",
   "nbconvert_exporter": "python",
   "pygments_lexer": "ipython3",
   "version": "3.6.4"
  }
 },
 "nbformat": 4,
 "nbformat_minor": 2
}
