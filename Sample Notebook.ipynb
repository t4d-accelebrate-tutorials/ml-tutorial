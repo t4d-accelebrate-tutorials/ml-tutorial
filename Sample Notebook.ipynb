{
 "cells": [
  {
   "cell_type": "code",
   "execution_count": 2,
   "metadata": {},
   "outputs": [
    {
     "data": {
      "image/png": "[encoded data removed]",
      "text/plain": [
       "<matplotlib.figure.Figure at 0x20bd8a88908>"
      ]
     },
     "metadata": {},
     "output_type": "display_data"
    }
   ],
   "source": [
    "import matplotlib.pyplot as plt\n",
    "\n",
    "sample_number = [\n",
    "  [ 0.,  0.,  10.,  14.,   8.,   1.,  0.,  0. ],\n",
    "  [ 0.,  2.,  16.,  14.,   6.,   1.,  0.,  0. ],\n",
    "  [ 0.,  0.,  15.,  15.,   8.,  15.,  0.,  0. ],\n",
    "  [ 0.,  0.,   5.,  16.,  16.,  10.,  0.,  0. ],\n",
    "  [ 0.,  0.,  12.,  15.,  15.,  12.,  0.,  0. ],\n",
    "  [ 0.,  4.,  16.,   6.,   4.,  16.,  6.,  0. ],\n",
    "  [ 0.,  8.,  16.,  10.,   8.,  16.,  8.,  0. ],\n",
    "  [ 0.,  1.,   8.,  12.,  14.,  12.,  1.,  0. ],\n",
    "]\n",
    "\n",
    "# create a new figure 3in by 3in\n",
    "plt.figure(1, figsize=(3, 3))\n",
    "\n",
    "# display the image using a grayscale image map\n",
    "plt.imshow(sample_number, cmap=plt.cm.gray_r, interpolation='nearest')\n",
    "\n",
    "plt.show()"
   ]
  },
  {
   "cell_type": "code",
   "execution_count": null,
   "metadata": {},
   "outputs": [],
   "source": []
  }
 ],
 "metadata": {
  "kernelspec": {
   "display_name": "Python 3",
   "language": "python",
   "name": "python3"
  },
  "language_info": {
   "codemirror_mode": {
    "name": "ipython",
    "version": 3
   },
   "file_extension": ".py",
   "mimetype": "text/x-python",
   "name": "python",
   "nbconvert_exporter": "python",
   "pygments_lexer": "ipython3",
   "version": "3.6.4"
  }
 },
 "nbformat": 4,
 "nbformat_minor": 2
}
