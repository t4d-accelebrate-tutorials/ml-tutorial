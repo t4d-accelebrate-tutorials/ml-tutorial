{
 "cells": [
  {
   "cell_type": "code",
   "execution_count": 8,
   "metadata": {},
   "outputs": [
    {
     "data": {
      "text/plain": [
       "array([1])"
      ]
     },
     "execution_count": 8,
     "metadata": {},
     "output_type": "execute_result"
    }
   ],
   "source": [
    "from sklearn import datasets, svm\n",
    "\n",
    "digits = datasets.load_digits()\n",
    "\n",
    "clf = svm.SVC(gamma=0.001, C=100.)\n",
    "\n",
    "clf.fit(digits.data, digits.target)\n",
    "\n",
    "sample_number = [\n",
    "  [ 0.,  0.,  0.,  0.,  16.,  0.,  0.,  0. ],\n",
    "  [ 0.,  0.,  0.,  0.,  16.,  0.,  0.,  0. ],\n",
    "  [ 0.,  0.,  0.,  0.,  16.,  0.,  0.,  0. ],\n",
    "  [ 0.,  0.,  0.,  0.,  16.,  0.,  0.,  0. ],\n",
    "  [ 0.,  0.,  0.,  0.,  16.,  0.,  0.,  0. ],\n",
    "  [ 0.,  0.,  0.,  0.,  16.,  0.,  0.,  0. ],\n",
    "  [ 0.,  0.,  0.,  0.,  16.,  0.,  0.,  0. ],\n",
    "  [ 0.,  0.,  0.,  0.,  16.,  0.,  0.,  0. ],\n",
    "]\n",
    "\n",
    "clf.predict([[item for sublist in sample_number for item in sublist]])"
   ]
  },
  {
   "cell_type": "code",
   "execution_count": null,
   "metadata": {},
   "outputs": [],
   "source": []
  }
 ],
 "metadata": {
  "kernelspec": {
   "display_name": "Python 3",
   "language": "python",
   "name": "python3"
  },
  "language_info": {
   "codemirror_mode": {
    "name": "ipython",
    "version": 3
   },
   "file_extension": ".py",
   "mimetype": "text/x-python",
   "name": "python",
   "nbconvert_exporter": "python",
   "pygments_lexer": "ipython3",
   "version": "3.6.4"
  }
 },
 "nbformat": 4,
 "nbformat_minor": 2
}
