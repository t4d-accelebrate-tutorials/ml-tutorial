{
 "cells": [
  {
   "cell_type": "code",
   "execution_count": 3,
   "metadata": {},
   "outputs": [
    {
     "name": "stdout",
     "output_type": "stream",
     "text": [
      "[1]\n"
     ]
    },
    {
     "data": {
      "image/png": "[encoded data removed]",
      "text/plain": [
       "<matplotlib.figure.Figure at 0x23069d88d30>"
      ]
     },
     "metadata": {},
     "output_type": "display_data"
    }
   ],
   "source": [
    "from sklearn import datasets, svm\n",
    "from sklearn.externals import joblib\n",
    "import matplotlib.pyplot as plt\n",
    "import pandas as pd\n",
    "\n",
    "digits = datasets.load_digits()\n",
    "\n",
    "\n",
    "clf = joblib.load('./digits.pkl')\n",
    "\n",
    "# clf = svm.SVC(gamma=0.001, C=100.)\n",
    "# clf.fit(digits.data, digits.target)\n",
    "\n",
    "df = pd.read_csv('./digits.csv', header=None)\n",
    "sample_number = df.values[0].reshape(8,8)\n",
    "\n",
    "result = clf.predict([[item for sublist in sample_number for item in sublist]])\n",
    "print(result)\n",
    "\n",
    "joblib.dump(clf, './digits.pkl')\n",
    "\n",
    "plt.figure(1, figsize=(3, 3))\n",
    "\n",
    "plt.imshow(sample_number, cmap=plt.cm.gray_r, interpolation='nearest')\n",
    "\n",
    "plt.show()"
   ]
  },
  {
   "cell_type": "code",
   "execution_count": null,
   "metadata": {},
   "outputs": [],
   "source": []
  }
 ],
 "metadata": {
  "kernelspec": {
   "display_name": "Python 3",
   "language": "python",
   "name": "python3"
  },
  "language_info": {
   "codemirror_mode": {
    "name": "ipython",
    "version": 3
   },
   "file_extension": ".py",
   "mimetype": "text/x-python",
   "name": "python",
   "nbconvert_exporter": "python",
   "pygments_lexer": "ipython3",
   "version": "3.6.4"
  }
 },
 "nbformat": 4,
 "nbformat_minor": 2
}
